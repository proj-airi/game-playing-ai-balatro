{
 "cells": [
  {
   "cell_type": "code",
   "execution_count": 7,
   "id": "4c741533",
   "metadata": {},
   "outputs": [
    {
     "name": "stdout",
     "output_type": "stream",
     "text": [
      "/home/neko/.cache/huggingface/hub/models--PaddlePaddle--PP-OCRv5_server_rec/snapshots/b26c3587fda8da3c8ec0ce357214b4d661ff1558/inference.pdiparams\n",
      "/home/neko/.cache/huggingface/hub/models--PaddlePaddle--PP-OCRv5_server_rec/snapshots/b26c3587fda8da3c8ec0ce357214b4d661ff1558/inference.yml\n"
     ]
    }
   ],
   "source": [
    "from huggingface_hub import hf_hub_download\n",
    "\n",
    "params_path = hf_hub_download(repo_id=\"PaddlePaddle/PP-OCRv5_server_rec\", repo_type=\"model\", filename=\"inference.pdiparams\")\n",
    "print(params_path)\n",
    "\n",
    "dict_path = hf_hub_download(repo_id=\"PaddlePaddle/PP-OCRv5_server_rec\", repo_type=\"model\", filename=\"inference.yml\")\n",
    "print(dict_path)"
   ]
  },
  {
   "cell_type": "code",
   "execution_count": null,
   "id": "7cf1f132",
   "metadata": {},
   "outputs": [],
   "source": [
    "!pixi run pip install --pre paddlepaddle -i https://www.paddlepaddle.org.cn/packages/nightly/cpu/\n",
    "!mkdir -p .output/PP-OCRv5_server_rec-ONNX\n",
    "!pixi run paddlex --install paddle2onnx"
   ]
  },
  {
   "cell_type": "code",
   "execution_count": null,
   "id": "24fa3ddd",
   "metadata": {},
   "outputs": [],
   "source": [
    "!pixi run paddlex --paddle2onnx --paddle_model_dir /home/neko/.cache/huggingface/hub/models--PaddlePaddle--PP-OCRv5_server_rec/snapshots/b26c3587fda8da3c8ec0ce357214b4d661ff1558/ --onnx_model_dir models/PP-OCRv5_server_rec-ONNX/\n",
    "\n",
    "# Input dir: /home/neko/.cache/huggingface/hub/models--PaddlePaddle--PP-OCRv5_server_rec/snapshots/b26c3587fda8da3c8ec0ce357214b4d661ff1558\n",
    "# Output dir: .output/PP-OCRv5_server_rec-ONNX\n",
    "# Paddle2ONNX conversion starting...\n",
    "# /home/neko/Git/github.com/proj-airi/game-playing-ai-balatro/.pixi/envs/default/lib/python3.12/site-packages/paddle/utils/cpp_extension/extension_utils.py:718: UserWarning: No ccache found. Please be aware that recompiling all source files may be required. You can download and install ccache from: https://github.com/ccache/ccache/blob/master/doc/INSTALL.md\n",
    "#   warnings.warn(warning_message)\n",
    "# [Paddle2ONNX] Start parsing the Paddle model file...\n",
    "# [Paddle2ONNX] Use opset_version = 10 for ONNX export.\n",
    "# [Paddle2ONNX] PaddlePaddle model is exported as ONNX format now.\n",
    "# 2025-09-22 20:43:04 [INFO]      Try to perform constant folding on the ONNX model with Polygraphy.\n",
    "# [W] 'colored' module is not installed, will not use colors when logging. To enable colors, please install the 'colored' module: python3 -m pip install colored\n",
    "# [I] Folding Constants | Pass 1\n",
    "# [I] Module: 'onnx_graphsurgeon' is required, but not installed. Attempting to install now.\n",
    "# [I] Running installation command: /home/neko/Git/github.com/proj-airi/game-playing-ai-balatro/.pixi/envs/default/bin/python3.12 -m pip install onnx_graphsurgeon>=0.3.27 --extra-index-url=https://pypi.ngc.nvidia.com\n",
    "# [I]     Total Nodes | Original:  1111, After Folding:   512 |   599 Nodes Folded\n",
    "# [I] Folding Constants | Pass 2\n",
    "# [I]     Total Nodes | Original:   512, After Folding:   512 |     0 Nodes Folded\n",
    "# 2025-09-22 20:43:10 [INFO]      ONNX model saved in .output/PP-OCRv5_server_rec-ONNX/inference.onnx.\n",
    "# Paddle2ONNX conversion succeeded\n",
    "# Copied /home/neko/.cache/huggingface/hub/models--PaddlePaddle--PP-OCRv5_server_rec/snapshots/b26c3587fda8da3c8ec0ce357214b4d661ff1558/inference.yml to models/PP-OCRv5_server_rec-ONNX/inference.yml\n",
    "# Done"
   ]
  },
  {
   "cell_type": "code",
   "execution_count": null,
   "id": "9c3f78ff",
   "metadata": {},
   "outputs": [
    {
     "name": "stderr",
     "output_type": "stream",
     "text": [
      "/home/neko/Git/github.com/proj-airi/game-playing-ai-balatro/.pixi/envs/default/lib/python3.12/site-packages/onnxruntime/capi/onnxruntime_inference_collection.py:121: UserWarning: Specified provider 'CUDAExecutionProvider' is not in available provider names.Available providers: 'AzureExecutionProvider, CPUExecutionProvider'\n",
      "  warnings.warn(\n"
     ]
    },
    {
     "data": {
      "text/plain": [
       "array([[[[251., 251., 251., ..., 247., 247., 247.],\n",
       "         [251., 251., 251., ..., 247., 247., 247.],\n",
       "         [251., 251., 251., ..., 247., 247., 247.],\n",
       "         ...,\n",
       "         [246., 246., 246., ..., 249., 249., 249.],\n",
       "         [246., 246., 246., ..., 249., 249., 249.],\n",
       "         [246., 246., 246., ..., 249., 249., 249.]],\n",
       "\n",
       "        [[243., 243., 243., ..., 245., 245., 245.],\n",
       "         [243., 243., 243., ..., 245., 245., 245.],\n",
       "         [242., 242., 242., ..., 245., 245., 245.],\n",
       "         ...,\n",
       "         [246., 246., 246., ..., 247., 247., 247.],\n",
       "         [246., 246., 246., ..., 247., 247., 247.],\n",
       "         [246., 246., 246., ..., 247., 247., 247.]],\n",
       "\n",
       "        [[250., 250., 250., ..., 245., 245., 245.],\n",
       "         [250., 250., 250., ..., 245., 245., 245.],\n",
       "         [252., 252., 252., ..., 245., 245., 245.],\n",
       "         ...,\n",
       "         [246., 246., 246., ..., 247., 247., 247.],\n",
       "         [246., 246., 246., ..., 247., 247., 247.],\n",
       "         [246., 246., 246., ..., 247., 247., 247.]]]],\n",
       "      shape=(1, 3, 48, 320), dtype=float32)"
      ]
     },
     "execution_count": 38,
     "metadata": {},
     "output_type": "execute_result"
    }
   ],
   "source": [
    "from onnxruntime import InferenceSession\n",
    "\n",
    "session = InferenceSession(\"/home/neko/Git/github.com/proj-airi/game-playing-ai-balatro/models/PP-OCRv5_server_rec-ONNX/inference.onnx\", providers=['CUDAExecutionProvider', 'CPUExecutionProvider'])\n",
    "\n",
    "from PIL import Image\n",
    "\n",
    "image = Image.open(\"/home/neko/Git/github.com/proj-airi/game-playing-ai-balatro/test/testdata/image-2.png\").convert(\"RGB\")\n",
    "# transform into numpy array\n",
    "\n",
    "import numpy as np\n",
    "image_tensor = np.array(image).astype('float32')\n",
    "\n",
    "# input info:\n",
    "# name: x\n",
    "# tensor: float32[DynamicDimension.0,3,48,DynamicDimension.1]\n",
    "\n",
    "# according to https://zhuanlan.zhihu.com/p/1913269254393956146 by nihui\n",
    "# > 输入为BGR图像，高固定是48，宽可变，没有归一化系数\n",
    "#\n",
    "# PreProcess:\n",
    "#   transform_ops:\n",
    "#   - DecodeImage:\n",
    "#       channel_first: false\n",
    "#       img_mode: BGR\n",
    "#   - MultiLabelEncode:\n",
    "#       gtc_encode: NRTRLabelEncode\n",
    "#   - RecResizeImg:\n",
    "#       image_shape:\n",
    "#       - 3\n",
    "#       - 48\n",
    "#       - 320\n",
    "\n",
    "# reference code in C++:\n",
    "# const float rw = object.rrect.size.width;\n",
    "# const float rh = object.rrect.size.height;\n",
    "\n",
    "# const int target_height = 48;\n",
    "# const float target_width = rh * target_height / rw;\n",
    "\n",
    "# cv::Point2f corners[4];\n",
    "# object.rrect.points(corners);\n",
    "\n",
    "# // horizontal text\n",
    "# // corner points order\n",
    "# //  0--------1\n",
    "# //  |        |rw  -> as angle=90\n",
    "# //  3--------2\n",
    "# //      rh\n",
    "\n",
    "# std::vector<cv::Point2f> src_pts(3);\n",
    "# src_pts[0] = corners[0];\n",
    "# src_pts[1] = corners[1];\n",
    "# src_pts[2] = corners[3];\n",
    "\n",
    "# std::vector<cv::Point2f> dst_pts(3);\n",
    "# dst_pts[0] = cv::Point2f(0, 0);\n",
    "# dst_pts[1] = cv::Point2f(target_width, 0);\n",
    "# dst_pts[2] = cv::Point2f(0, target_height);\n",
    "\n",
    "# cv::Mat tm = cv::getAffineTransform(src_pts, dst_pts);\n",
    "\n",
    "# cv::Mat dst;\n",
    "# cv::warpAffine(bgr, dst, tm, cv::Size(target_width, target_height), cv::INTER_LINEAR, cv::BORDER_REPLICATE);\n",
    "\n",
    "import cv2\n",
    "h, w = image_tensor.shape[0:2]\n",
    "new_w = int(320 * h / 48)\n",
    "if new_w > 320:\n",
    "    new_w = 320\n",
    "\n",
    "image_tensor = cv2.resize(image_tensor, (new_w, 48))\n",
    "# pad to width 320\n",
    "padded_image = np.zeros((48, 320, 3), dtype=np.float32)\n",
    "padded_image[:, :new_w, :] = image_tensor\n",
    "image_tensor = padded_image\n",
    "# BGR\n",
    "image_tensor = image_tensor[:, :, ::-1]\n",
    "# HWC to CHW\n",
    "image_tensor = np.transpose(image_tensor, (2, 0, 1))\n",
    "# add batch dimension\n",
    "image_tensor = np.expand_dims(image_tensor, axis=0)\n",
    "# convert to float32\n",
    "image_tensor = image_tensor.astype('float32')\n",
    "\n",
    "image_tensor"
   ]
  },
  {
   "cell_type": "code",
   "execution_count": 39,
   "id": "44a9e517",
   "metadata": {},
   "outputs": [
    {
     "data": {
      "image/png": "[encoded data removed]",
      "text/plain": [
       "<Figure size 640x480 with 1 Axes>"
      ]
     },
     "metadata": {},
     "output_type": "display_data"
    }
   ],
   "source": [
    "# visualize the preprocessed image\n",
    "import matplotlib.pyplot as plt\n",
    "plt.imshow(image_tensor[0].transpose(1, 2, 0)[:, :, ::-1].astype('uint8'))\n",
    "# save the preprocessed image\n",
    "plt.savefig(\"preprocessed_image.png\")"
   ]
  },
  {
   "cell_type": "code",
   "execution_count": 40,
   "id": "50518eb9",
   "metadata": {},
   "outputs": [
    {
     "name": "stdout",
     "output_type": "stream",
     "text": [
      "[array([[[1., 0., 0., ..., 0., 0., 0.],\n",
      "        [1., 0., 0., ..., 0., 0., 0.],\n",
      "        [1., 0., 0., ..., 0., 0., 0.],\n",
      "        ...,\n",
      "        [1., 0., 0., ..., 0., 0., 0.],\n",
      "        [1., 0., 0., ..., 0., 0., 0.],\n",
      "        [1., 0., 0., ..., 0., 0., 0.]]],\n",
      "      shape=(1, 40, 18385), dtype=float32)]\n"
     ]
    }
   ],
   "source": [
    "# create input\n",
    "inputs = {session.get_inputs()[0].name: image_tensor}\n",
    "\n",
    "# run inference\n",
    "outputs = session.run(None, inputs)\n",
    "\n",
    "print(outputs)"
   ]
  },
  {
   "cell_type": "code",
   "execution_count": 43,
   "id": "516e4239",
   "metadata": {},
   "outputs": [
    {
     "data": {
      "text/plain": [
       "[]"
      ]
     },
     "execution_count": 43,
     "metadata": {},
     "output_type": "execute_result"
    }
   ],
   "source": [
    "# reference code in C++:\n",
    "# // 18385 x len\n",
    "# for (int i = 0; i < out.h; i++)\n",
    "# {\n",
    "#     const float* p = out.row(i);\n",
    "\n",
    "#     int index = 0;\n",
    "#     float max_score = -9999.f;\n",
    "#     for (int j = 0; j < out.w; j++)\n",
    "#     {\n",
    "#         float score = *p++;\n",
    "#         if (score > max_score)\n",
    "#         {\n",
    "#             max_score = score;\n",
    "#             index = j;\n",
    "#         }\n",
    "#     }\n",
    "\n",
    "#     if (index <= 0)\n",
    "#         continue;\n",
    "\n",
    "#     Character ch;\n",
    "#     ch.id = index - 1;\n",
    "#     ch.prob = max_score;\n",
    "\n",
    "#     object.text.push_back(ch);\n",
    "# }\n",
    "\n",
    "texts = []\n",
    "for i in range(outputs[0].shape[1]):\n",
    "    p = outputs[0][0, i, :]\n",
    "    index = int(np.argmax(p))\n",
    "    max_score = float(np.max(p))\n",
    "    if index <= 0:\n",
    "        continue\n",
    "    texts.append((index - 1, max_score))\n",
    "\n",
    "texts"
   ]
  },
  {
   "cell_type": "code",
   "execution_count": null,
   "id": "625a0f0e",
   "metadata": {},
   "outputs": [
    {
     "data": {
      "text/plain": [
       "''"
      ]
     },
     "execution_count": 44,
     "metadata": {},
     "output_type": "execute_result"
    }
   ],
   "source": [
    "# all labels in /home/neko/Git/github.com/proj-airi/game-playing-ai-balatro/models/PP-OCRv5_server_rec-ONNX/inference.yml\n",
    "from yaml import safe_load\n",
    "with open(\"/home/neko/Git/github.com/proj-airi/game-playing-ai-balatro/models/PP-OCRv5_server_rec-ONNX/inference.yml\", 'r') as f:\n",
    "    y = safe_load(f)\n",
    "\n",
    "y[\"PostProcess\"][\"character_dict\"]\n",
    "# ['\\u3000',\n",
    "#  '一',\n",
    "#  '乙',\n",
    "#  '二',\n",
    "#  '十',\n",
    "#  '丁',\n",
    "#  '厂',\n",
    "#  '七',\n",
    "#  '卜',\n",
    "#  ...\n",
    "# ]\n",
    "\n",
    "result_text = ''.join([y[\"PostProcess\"][\"character_dict\"][id] for id, prob in texts])\n",
    "\n",
    "result_text"
   ]
  },
  {
   "cell_type": "code",
   "execution_count": null,
   "id": "e5c88c48",
   "metadata": {},
   "outputs": [],
   "source": []
  }
 ],
 "metadata": {
  "kernelspec": {
   "display_name": "Python 3",
   "language": "python",
   "name": "python3"
  },
  "language_info": {
   "codemirror_mode": {
    "name": "ipython",
    "version": 3
   },
   "file_extension": ".py",
   "mimetype": "text/x-python",
   "name": "python",
   "nbconvert_exporter": "python",
   "pygments_lexer": "ipython3",
   "version": "3.12.11"
  }
 },
 "nbformat": 4,
 "nbformat_minor": 5
}

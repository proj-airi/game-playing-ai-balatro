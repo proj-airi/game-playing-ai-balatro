{
 "cells": [
  {
   "cell_type": "code",
   "execution_count": 1,
   "id": "6b9cbe88",
   "metadata": {},
   "outputs": [
    {
     "name": "stderr",
     "output_type": "stream",
     "text": [
      "/home/neko/Git/github.com/proj-airi/game-playing-ai-balatro/.pixi/envs/default/lib/python3.12/site-packages/tqdm/auto.py:21: TqdmWarning: IProgress not found. Please update jupyter and ipywidgets. See https://ipywidgets.readthedocs.io/en/stable/user_install.html\n",
      "  from .autonotebook import tqdm as notebook_tqdm\n"
     ]
    }
   ],
   "source": [
    "import torch\n",
    "from PIL import Image\n",
    "from transformers import AutoTokenizer, AutoModelForCausalLM"
   ]
  },
  {
   "cell_type": "code",
   "execution_count": 2,
   "id": "c4f8627c",
   "metadata": {},
   "outputs": [
    {
     "data": {
      "text/plain": [
       "True"
      ]
     },
     "execution_count": 2,
     "metadata": {},
     "output_type": "execute_result"
    }
   ],
   "source": [
    "torch.cuda.is_available()"
   ]
  },
  {
   "cell_type": "code",
   "execution_count": 9,
   "id": "de90629b",
   "metadata": {},
   "outputs": [
    {
     "name": "stderr",
     "output_type": "stream",
     "text": [
      "A new version of the following files was downloaded from https://huggingface.co/apple/FastVLM-1.5B:\n",
      "- llava_qwen.py\n",
      ". Make sure to double-check they do not contain any added malicious code. To avoid downloading new versions of the code file, you can pin a revision.\n",
      "/home/neko/.cache/huggingface/modules/transformers_modules/apple/FastVLM-1.5B/dd6608dfa0e17b050e1dde2856c3437fcba197ac/llava_qwen.py:1493: UserWarning: Overwriting fastvithd in registry with transformers_modules.apple.FastVLM-1.5B.dd6608dfa0e17b050e1dde2856c3437fcba197ac.llava_qwen.fastvithd. This is because the name being registered conflicts with an existing name. Please check if this is not expected.\n",
      "  @register_model\n"
     ]
    }
   ],
   "source": [
    "MID = \"apple/FastVLM-1.5B\"\n",
    "IMAGE_TOKEN_INDEX = -200  # what the model code looks for\n",
    "\n",
    "# Load\n",
    "tok = AutoTokenizer.from_pretrained(MID, trust_remote_code=True)\n",
    "model = AutoModelForCausalLM.from_pretrained(\n",
    "    MID,\n",
    "    dtype=torch.float16 if torch.cuda.is_available() else torch.float32,\n",
    "    device_map=\"auto\",\n",
    "    trust_remote_code=True,\n",
    ")"
   ]
  },
  {
   "cell_type": "code",
   "execution_count": 7,
   "id": "21a6434e",
   "metadata": {},
   "outputs": [],
   "source": [
    "# Build chat -> render to string (not tokens) so we can place <image> exactly\n",
    "messages = [\n",
    "    {\"role\": \"user\", \"content\": \"<image>\\nExtract the content inside this image.\"}\n",
    "]\n",
    "rendered = tok.apply_chat_template(\n",
    "    messages, add_generation_prompt=True, tokenize=False\n",
    ")\n",
    "\n",
    "pre, post = rendered.split(\"<image>\", 1)\n",
    "\n",
    "# Tokenize the text *around* the image token (no extra specials!)\n",
    "pre_ids  = tok(pre,  return_tensors=\"pt\", add_special_tokens=False).input_ids\n",
    "post_ids = tok(post, return_tensors=\"pt\", add_special_tokens=False).input_ids\n",
    "\n",
    "# Splice in the IMAGE token id (-200) at the placeholder position\n",
    "img_tok = torch.tensor([[IMAGE_TOKEN_INDEX]], dtype=pre_ids.dtype)\n",
    "input_ids = torch.cat([pre_ids, img_tok, post_ids], dim=1).to(model.device)\n",
    "attention_mask = torch.ones_like(input_ids, device=model.device)\n",
    "\n",
    "# Preprocess image via the model's own processor\n",
    "img = Image.open(\"/home/neko/Git/github.com/proj-airi/game-playing-ai-balatro/image.png\").convert(\"RGB\")\n",
    "px = model.get_vision_tower().image_processor(images=img, return_tensors=\"pt\")[\"pixel_values\"]\n",
    "px = px.to(model.device, dtype=model.dtype)"
   ]
  },
  {
   "cell_type": "code",
   "execution_count": 8,
   "id": "3415223d",
   "metadata": {},
   "outputs": [
    {
     "name": "stdout",
     "output_type": "stream",
     "text": [
      "4 H X K\n",
      "+106403840\n",
      "-\n",
      "-\n",
      "-\n",
      "-\n",
      "-\n",
      "-\n",
      "-\n",
      "-\n",
      "-\n",
      "-\n",
      "-\n",
      "-\n",
      "-\n",
      "-\n",
      "-\n",
      "-\n",
      "-\n",
      "-\n",
      "-\n",
      "-\n",
      "-\n",
      "-\n",
      "-\n",
      "-\n",
      "-\n",
      "-\n",
      "-\n",
      "-\n",
      "-\n",
      "-\n",
      "-\n",
      "-\n",
      "-\n",
      "-\n",
      "-\n",
      "-\n",
      "-\n"
     ]
    }
   ],
   "source": [
    "# Generate\n",
    "with torch.no_grad():\n",
    "    out = model.generate(\n",
    "        inputs=input_ids,\n",
    "        attention_mask=attention_mask,\n",
    "        images=px,\n",
    "        max_new_tokens=128,\n",
    "    )\n",
    "\n",
    "print(tok.decode(out[0], skip_special_tokens=True))"
   ]
  },
  {
   "cell_type": "code",
   "execution_count": null,
   "id": "c23b0e36",
   "metadata": {},
   "outputs": [],
   "source": []
  }
 ],
 "metadata": {
  "kernelspec": {
   "display_name": "Python 3",
   "language": "python",
   "name": "python3"
  },
  "language_info": {
   "codemirror_mode": {
    "name": "ipython",
    "version": 3
   },
   "file_extension": ".py",
   "mimetype": "text/x-python",
   "name": "python",
   "nbconvert_exporter": "python",
   "pygments_lexer": "ipython3",
   "version": "3.12.11"
  }
 },
 "nbformat": 4,
 "nbformat_minor": 5
}

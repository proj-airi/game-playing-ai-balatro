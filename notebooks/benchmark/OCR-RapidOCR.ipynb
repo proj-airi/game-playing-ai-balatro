{
 "cells": [
  {
   "cell_type": "code",
   "execution_count": null,
   "id": "9b7117ba",
   "metadata": {},
   "outputs": [
    {
     "name": "stderr",
     "output_type": "stream",
     "text": [
      "\u001b[32m[INFO] 2025-09-22 21:35:20,234 [RapidOCR] base.py:22: Using engine_name: onnxruntime\u001b[0m\n",
      "\u001b[32m[INFO] 2025-09-22 21:35:20,237 [RapidOCR] download_file.py:60: File exists and is valid: /home/neko/Git/github.com/proj-airi/game-playing-ai-balatro/.pixi/envs/default/lib/python3.12/site-packages/rapidocr/models/ch_PP-OCRv4_det_infer.onnx\u001b[0m\n",
      "\u001b[32m[INFO] 2025-09-22 21:35:20,237 [RapidOCR] main.py:55: Using /home/neko/Git/github.com/proj-airi/game-playing-ai-balatro/.pixi/envs/default/lib/python3.12/site-packages/rapidocr/models/ch_PP-OCRv4_det_infer.onnx\u001b[0m\n",
      "\u001b[32m[INFO] 2025-09-22 21:35:20,270 [RapidOCR] base.py:22: Using engine_name: onnxruntime\u001b[0m\n",
      "\u001b[32m[INFO] 2025-09-22 21:35:20,271 [RapidOCR] download_file.py:60: File exists and is valid: /home/neko/Git/github.com/proj-airi/game-playing-ai-balatro/.pixi/envs/default/lib/python3.12/site-packages/rapidocr/models/ch_ppocr_mobile_v2.0_cls_infer.onnx\u001b[0m\n",
      "\u001b[32m[INFO] 2025-09-22 21:35:20,272 [RapidOCR] main.py:55: Using /home/neko/Git/github.com/proj-airi/game-playing-ai-balatro/.pixi/envs/default/lib/python3.12/site-packages/rapidocr/models/ch_ppocr_mobile_v2.0_cls_infer.onnx\u001b[0m\n",
      "\u001b[32m[INFO] 2025-09-22 21:35:20,293 [RapidOCR] base.py:22: Using engine_name: onnxruntime\u001b[0m\n",
      "\u001b[32m[INFO] 2025-09-22 21:35:20,300 [RapidOCR] download_file.py:60: File exists and is valid: /home/neko/Git/github.com/proj-airi/game-playing-ai-balatro/.pixi/envs/default/lib/python3.12/site-packages/rapidocr/models/ch_PP-OCRv4_rec_infer.onnx\u001b[0m\n",
      "\u001b[32m[INFO] 2025-09-22 21:35:20,301 [RapidOCR] main.py:55: Using /home/neko/Git/github.com/proj-airi/game-playing-ai-balatro/.pixi/envs/default/lib/python3.12/site-packages/rapidocr/models/ch_PP-OCRv4_rec_infer.onnx\u001b[0m\n"
     ]
    },
    {
     "data": {
      "text/plain": [
       "RapidOCROutput(img=array([[[ 87, 116,  61],\n",
       "        [ 87, 116,  61],\n",
       "        [ 87, 116,  61],\n",
       "        ...,\n",
       "        [ 95, 129,  64],\n",
       "        [ 95, 129,  64],\n",
       "        [ 95, 129,  64]],\n",
       "\n",
       "       [[ 87, 116,  61],\n",
       "        [ 87, 116,  61],\n",
       "        [ 87, 116,  61],\n",
       "        ...,\n",
       "        [ 95, 129,  64],\n",
       "        [ 95, 129,  64],\n",
       "        [ 95, 129,  64]],\n",
       "\n",
       "       [[ 87, 116,  61],\n",
       "        [ 87, 116,  61],\n",
       "        [ 87, 116,  61],\n",
       "        ...,\n",
       "        [ 95, 129,  64],\n",
       "        [ 95, 129,  64],\n",
       "        [ 95, 129,  64]],\n",
       "\n",
       "       ...,\n",
       "\n",
       "       [[183, 198, 166],\n",
       "        [183, 198, 166],\n",
       "        [183, 199, 165],\n",
       "        ...,\n",
       "        [ 93, 124,  61],\n",
       "        [ 93, 124,  61],\n",
       "        [ 93, 124,  61]],\n",
       "\n",
       "       [[183, 198, 166],\n",
       "        [183, 198, 166],\n",
       "        [183, 199, 165],\n",
       "        ...,\n",
       "        [ 93, 124,  61],\n",
       "        [ 93, 124,  61],\n",
       "        [ 93, 124,  61]],\n",
       "\n",
       "       [[183, 198, 166],\n",
       "        [183, 198, 166],\n",
       "        [183, 199, 165],\n",
       "        ...,\n",
       "        [ 93, 124,  61],\n",
       "        [ 93, 124,  61],\n",
       "        [ 93, 124,  61]]], shape=(258, 374, 3), dtype=uint8), boxes=array([[[115.,  34.],\n",
       "        [247.,  36.],\n",
       "        [245.,  86.],\n",
       "        [114.,  83.]],\n",
       "\n",
       "       [[ 95., 134.],\n",
       "        [268., 134.],\n",
       "        [268., 189.],\n",
       "        [ 95., 189.]]], dtype=float32), txts=('方片K', '+10第码'), scores=(0.99225, 0.84769), word_results=(None, None), elapse_list=[0.07558226599940099, 0.0018747519934549928, 0.03480273101013154], elapse=0.11225974900298752, viser=<rapidocr.utils.vis_res.VisRes object at 0x7f0c94551220>)"
      ]
     },
     "execution_count": 14,
     "metadata": {},
     "output_type": "execute_result"
    }
   ],
   "source": [
    "from rapidocr import RapidOCR\n",
    "from PIL import Image\n",
    "\n",
    "engine = RapidOCR()\n",
    "\n",
    "image = Image.open(\n",
    "    '/home/neko/Git/github.com/proj-airi/game-playing-ai-balatro/test/testdata/image.png'\n",
    ")\n",
    "result = engine(image)\n",
    "\n",
    "result"
   ]
  },
  {
   "cell_type": "code",
   "execution_count": 15,
   "id": "5a0065ef",
   "metadata": {},
   "outputs": [
    {
     "data": {
      "text/plain": [
       "[{'box': [[115.0, 34.0], [247.0, 36.0], [245.0, 86.0], [114.0, 83.0]],\n",
       "  'txt': '方片K',\n",
       "  'score': 0.99225},\n",
       " {'box': [[95.0, 134.0], [268.0, 134.0], [268.0, 189.0], [95.0, 189.0]],\n",
       "  'txt': '+10第码',\n",
       "  'score': 0.84769}]"
      ]
     },
     "execution_count": 15,
     "metadata": {},
     "output_type": "execute_result"
    }
   ],
   "source": [
    "result.to_json()"
   ]
  },
  {
   "cell_type": "code",
   "execution_count": 16,
   "id": "3421a402",
   "metadata": {},
   "outputs": [
    {
     "name": "stdout",
     "output_type": "stream",
     "text": [
      "方片K\n",
      "+10第码\n",
      "\n"
     ]
    }
   ],
   "source": [
    "texts = []\n",
    "\n",
    "for line in result.to_json():\n",
    "    for text in line['txt']:\n",
    "        texts.append(text)\n",
    "\n",
    "    texts.append('\\n')\n",
    "\n",
    "text = ''.join(texts)\n",
    "\n",
    "print(text)"
   ]
  },
  {
   "cell_type": "code",
   "execution_count": null,
   "id": "eee4a64f",
   "metadata": {},
   "outputs": [],
   "source": []
  }
 ],
 "metadata": {
  "kernelspec": {
   "display_name": "Python 3",
   "language": "python",
   "name": "python3"
  },
  "language_info": {
   "codemirror_mode": {
    "name": "ipython",
    "version": 3
   },
   "file_extension": ".py",
   "mimetype": "text/x-python",
   "name": "python",
   "nbconvert_exporter": "python",
   "pygments_lexer": "ipython3",
   "version": "3.12.11"
  }
 },
 "nbformat": 4,
 "nbformat_minor": 5
}

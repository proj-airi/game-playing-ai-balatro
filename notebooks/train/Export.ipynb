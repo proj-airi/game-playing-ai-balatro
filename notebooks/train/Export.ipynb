{
 "cells": [
  {
   "cell_type": "code",
   "execution_count": 1,
   "id": "7b26caf8",
   "metadata": {},
   "outputs": [],
   "source": [
    "from ultralytics import YOLO"
   ]
  },
  {
   "cell_type": "code",
   "execution_count": 2,
   "id": "579581f5",
   "metadata": {},
   "outputs": [],
   "source": [
    "model = YOLO('../../runs/v1-balatro-unified-2000-epoch/weights/best.pt')  # load a custom model"
   ]
  },
  {
   "cell_type": "code",
   "execution_count": 3,
   "id": "71c31a54",
   "metadata": {},
   "outputs": [
    {
     "name": "stdout",
     "output_type": "stream",
     "text": [
      "Ultralytics 8.3.203 🚀 Python-3.13.7 torch-2.8.0+cu129 CPU (13th Gen Intel Core i5-13600KF)\n",
      "YOLO11n summary (fused): 100 layers, 2,590,537 parameters, 0 gradients, 6.4 GFLOPs\n",
      "\n",
      "\u001b[34m\u001b[1mPyTorch:\u001b[0m starting from '../../runs/v1-balatro-unified-2000-epoch/weights/best.pt' with input shape (1, 3, 640, 640) BCHW and output shape(s) (1, 47, 8400) (5.2 MB)\n",
      "\n",
      "\u001b[34m\u001b[1mONNX:\u001b[0m starting export with onnx 1.19.0 opset 22...\n",
      "\u001b[34m\u001b[1mONNX:\u001b[0m slimming with onnxslim 0.1.69...\n",
      "\u001b[34m\u001b[1mONNX:\u001b[0m export success ✅ 0.7s, saved as '../../runs/v1-balatro-unified-2000-epoch/weights/best.onnx' (10.1 MB)\n",
      "\n",
      "Export complete (0.9s)\n",
      "Results saved to \u001b[1m/home/neko/Git/github.com/proj-airi/game-playing-ai-balatro/runs/v1-balatro-unified-2000-epoch/weights\u001b[0m\n",
      "Predict:         yolo predict task=detect model=../../runs/v1-balatro-unified-2000-epoch/weights/best.onnx imgsz=640  \n",
      "Validate:        yolo val task=detect model=../../runs/v1-balatro-unified-2000-epoch/weights/best.onnx imgsz=640 data=dataset.yaml  \n",
      "Visualize:       https://netron.app\n"
     ]
    },
    {
     "data": {
      "text/plain": [
       "'../../runs/v1-balatro-unified-2000-epoch/weights/best.onnx'"
      ]
     },
     "execution_count": 3,
     "metadata": {},
     "output_type": "execute_result"
    }
   ],
   "source": [
    "model.export(format='onnx')  # export the model to ONNX format"
   ]
  },
  {
   "cell_type": "code",
   "execution_count": null,
   "id": "5bd2ddf0",
   "metadata": {},
   "outputs": [],
   "source": []
  }
 ],
 "metadata": {
  "kernelspec": {
   "display_name": "Python 3",
   "language": "python",
   "name": "python3"
  },
  "language_info": {
   "codemirror_mode": {
    "name": "ipython",
    "version": 3
   },
   "file_extension": ".py",
   "mimetype": "text/x-python",
   "name": "python",
   "nbconvert_exporter": "python",
   "pygments_lexer": "ipython3",
   "version": "3.13.7"
  }
 },
 "nbformat": 4,
 "nbformat_minor": 5
}
